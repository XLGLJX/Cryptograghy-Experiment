{
 "cells": [
  {
   "cell_type": "code",
   "execution_count": 14,
   "metadata": {
    "vscode": {
     "languageId": "python"
    }
   },
   "outputs": [],
   "source": [
    "from gmpy2 import invert\n",
    "from Crypto.Util.number import *"
   ]
  },
  {
   "cell_type": "code",
   "execution_count": 2,
   "metadata": {
    "vscode": {
     "languageId": "python"
    }
   },
   "outputs": [
    {
     "ename": "UnicodeDecodeError",
     "evalue": "'utf-8' codec can't decode byte 0xb7 in position 0: invalid start byte",
     "output_type": "error",
     "traceback": [
      "\u001b[0;31m---------------------------------------------------------------------------\u001b[0m",
      "\u001b[0;31mUnicodeDecodeError\u001b[0m                        Traceback (most recent call last)",
      "\u001b[0;32m<ipython-input-2-c4c5e1318fea>\u001b[0m in \u001b[0;36m<module>\u001b[0;34m\u001b[0m\n\u001b[0;32m----> 1\u001b[0;31m \u001b[0msample\u001b[0m \u001b[0;34m=\u001b[0m \u001b[0mopen\u001b[0m\u001b[0;34m(\u001b[0m\u001b[0;34mr\"D:\\~~~homework\\Crypto experiment\\密码挑战赛赛题三\\附件3-1\\过程及参数.txt\"\u001b[0m\u001b[0;34m,\u001b[0m\u001b[0;34m'r'\u001b[0m\u001b[0;34m)\u001b[0m\u001b[0;34m.\u001b[0m\u001b[0mreadlines\u001b[0m\u001b[0;34m(\u001b[0m\u001b[0;34m)\u001b[0m\u001b[0;34m\u001b[0m\u001b[0;34m\u001b[0m\u001b[0m\n\u001b[0m\u001b[1;32m      2\u001b[0m \u001b[0mp\u001b[0m \u001b[0;34m=\u001b[0m \u001b[0;34m[\u001b[0m\u001b[0;34m]\u001b[0m\u001b[0;34m\u001b[0m\u001b[0;34m\u001b[0m\u001b[0m\n\u001b[1;32m      3\u001b[0m \u001b[0mq\u001b[0m \u001b[0;34m=\u001b[0m \u001b[0;34m[\u001b[0m\u001b[0;34m]\u001b[0m\u001b[0;34m\u001b[0m\u001b[0;34m\u001b[0m\u001b[0m\n\u001b[1;32m      4\u001b[0m \u001b[0mn\u001b[0m \u001b[0;34m=\u001b[0m \u001b[0;34m[\u001b[0m\u001b[0;34m]\u001b[0m\u001b[0;34m\u001b[0m\u001b[0;34m\u001b[0m\u001b[0m\n\u001b[1;32m      5\u001b[0m \u001b[0me\u001b[0m\u001b[0;34m=\u001b[0m \u001b[0mInteger\u001b[0m\u001b[0;34m(\u001b[0m\u001b[0;36m0X10001\u001b[0m\u001b[0;34m)\u001b[0m\u001b[0;34m\u001b[0m\u001b[0;34m\u001b[0m\u001b[0m\n",
      "\u001b[0;32m/usr/lib/python3.7/codecs.py\u001b[0m in \u001b[0;36mdecode\u001b[0;34m(self, input, final)\u001b[0m\n\u001b[1;32m    320\u001b[0m         \u001b[0;31m# decode input (taking the buffer into account)\u001b[0m\u001b[0;34m\u001b[0m\u001b[0;34m\u001b[0m\u001b[0;34m\u001b[0m\u001b[0m\n\u001b[1;32m    321\u001b[0m         \u001b[0mdata\u001b[0m \u001b[0;34m=\u001b[0m \u001b[0mself\u001b[0m\u001b[0;34m.\u001b[0m\u001b[0mbuffer\u001b[0m \u001b[0;34m+\u001b[0m \u001b[0minput\u001b[0m\u001b[0;34m\u001b[0m\u001b[0;34m\u001b[0m\u001b[0m\n\u001b[0;32m--> 322\u001b[0;31m         \u001b[0;34m(\u001b[0m\u001b[0mresult\u001b[0m\u001b[0;34m,\u001b[0m \u001b[0mconsumed\u001b[0m\u001b[0;34m)\u001b[0m \u001b[0;34m=\u001b[0m \u001b[0mself\u001b[0m\u001b[0;34m.\u001b[0m\u001b[0m_buffer_decode\u001b[0m\u001b[0;34m(\u001b[0m\u001b[0mdata\u001b[0m\u001b[0;34m,\u001b[0m \u001b[0mself\u001b[0m\u001b[0;34m.\u001b[0m\u001b[0merrors\u001b[0m\u001b[0;34m,\u001b[0m \u001b[0mfinal\u001b[0m\u001b[0;34m)\u001b[0m\u001b[0;34m\u001b[0m\u001b[0;34m\u001b[0m\u001b[0m\n\u001b[0m\u001b[1;32m    323\u001b[0m         \u001b[0;31m# keep undecoded input until the next call\u001b[0m\u001b[0;34m\u001b[0m\u001b[0;34m\u001b[0m\u001b[0;34m\u001b[0m\u001b[0m\n\u001b[1;32m    324\u001b[0m         \u001b[0mself\u001b[0m\u001b[0;34m.\u001b[0m\u001b[0mbuffer\u001b[0m \u001b[0;34m=\u001b[0m \u001b[0mdata\u001b[0m\u001b[0;34m[\u001b[0m\u001b[0mconsumed\u001b[0m\u001b[0;34m:\u001b[0m\u001b[0;34m]\u001b[0m\u001b[0;34m\u001b[0m\u001b[0;34m\u001b[0m\u001b[0m\n",
      "\u001b[0;31mUnicodeDecodeError\u001b[0m: 'utf-8' codec can't decode byte 0xb7 in position 0: invalid start byte"
     ]
    }
   ],
   "source": [
    "sample = open(r\"D:\\~~~homework\\Crypto experiment\\密码挑战赛赛题三\\附件3-1\\过程及参数.txt\",'r').readlines()\n",
    "p = []\n",
    "q = []\n",
    "n = []\n",
    "e= 0X10001\n",
    "d = []\n",
    "m = []\n",
    "c = []\n",
    "for line in sample:\n",
    "    if line.startswith(\"p=\"):\n",
    "        p.append(int(line.split()[1], 16))\n",
    "    if line.startswith(\"q=\"):\n",
    "        q.append(int(line.split()[1], 16))\n",
    "    if line.startswith(\"n=\"):\n",
    "        n.append(int(line.split()[1], 16))\n",
    "    if line.startswith(\"d=\"):\n",
    "        d.append(int(line.split()[1], 16))\n",
    "    if line.startswith(\"m=\"):\n",
    "        m.append(line.split()[1])\n",
    "    if line.startswith(\"c=\"):\n",
    "        c.append(int(line.split()[1], 16))\n"
   ]
  },
  {
   "cell_type": "code",
   "execution_count": 4,
   "metadata": {
    "vscode": {
     "languageId": "python"
    }
   },
   "outputs": [
    {
     "data": {
      "text/plain": [
       "['0XFFFFFFFFFFFFFFFF0000000000000000000000000000000000000000000000000000000000000000000000000000000000000000000000005468697320697320',\n",
       " '0XFFFFFFFFFFFFFFFF000000010000000000000000000000000000000000000000000000000000000000000000000000000000000000000000612074657374206F',\n",
       " '0XFFFFFFFFFFFFFFFF00000002000000000000000000000000000000000000000000000000000000000000000000000000000000000000000066206D7920525341',\n",
       " '0XFFFFFFFFFFFFFFFF0000000300000000000000000000000000000000000000000000000000000000000000000000000000000000000000002073797374656D2E']"
      ]
     },
     "execution_count": 4,
     "metadata": {},
     "output_type": "execute_result"
    }
   ],
   "source": [
    "m"
   ]
  },
  {
   "cell_type": "code",
   "execution_count": 3,
   "metadata": {
    "vscode": {
     "languageId": "python"
    }
   },
   "outputs": [
    {
     "ename": "NameError",
     "evalue": "name 'm' is not defined",
     "output_type": "error",
     "traceback": [
      "\u001b[0;31m---------------------------------------------------------------------------\u001b[0m",
      "\u001b[0;31mNameError\u001b[0m                                 Traceback (most recent call last)",
      "\u001b[0;32m<ipython-input-3-05acf742adbf>\u001b[0m in \u001b[0;36m<module>\u001b[0;34m\u001b[0m\n\u001b[0;32m----> 1\u001b[0;31m \u001b[0;32mfor\u001b[0m \u001b[0mx\u001b[0m \u001b[0;32min\u001b[0m \u001b[0mm\u001b[0m\u001b[0;34m:\u001b[0m\u001b[0;34m\u001b[0m\u001b[0;34m\u001b[0m\u001b[0m\n\u001b[0m\u001b[1;32m      2\u001b[0m     \u001b[0mprint\u001b[0m\u001b[0;34m(\u001b[0m\u001b[0;34mf\"flag: {x[Integer(2):Integer(2)+Integer(16)]}   index: {x[Integer(2)+Integer(16):Integer(2)+Integer(16)+Integer(8)]}    pad: {x[Integer(2)+Integer(16)+Integer(8):-Integer(16)]}     char: {x[-Integer(16):]}\"\u001b[0m\u001b[0;34m)\u001b[0m\u001b[0;34m\u001b[0m\u001b[0;34m\u001b[0m\u001b[0m\n",
      "\u001b[0;31mNameError\u001b[0m: name 'm' is not defined"
     ]
    }
   ],
   "source": [
    "for x in m:\n",
    "    print(f\"flag: {x[2:2+16]}   index: {x[2+16:2+16+8]}    pad: {x[2+16+8:-16]}     char: {x[-16:]}\")"
   ]
  },
  {
   "cell_type": "code",
   "execution_count": 4,
   "metadata": {
    "vscode": {
     "languageId": "python"
    }
   },
   "outputs": [],
   "source": [
    "def plaintxt_decode(m, sol):\n",
    "    x = hex(m)\n",
    "    return {\"flag\":x[2:2+16],\"index\":x[2+16:2+16+8],\"pad\":x[2+16+8:-16],\"ans\":bytes.fromhex(x[-16:]), \"solution\": sol}"
   ]
  },
  {
   "cell_type": "code",
   "execution_count": 5,
   "metadata": {
    "vscode": {
     "languageId": "python"
    }
   },
   "outputs": [
    {
     "name": "stderr",
     "output_type": "stream",
     "text": [
      "<>:4: DeprecationWarning: invalid escape sequence \\F\n",
      "<>:4: DeprecationWarning: invalid escape sequence \\F\n",
      "<>:4: DeprecationWarning: invalid escape sequence \\F\n",
      "<ipython-input-5-7794042204f3>:4: DeprecationWarning: invalid escape sequence \\F\n",
      "  txt = open(base_path + f\"\\Frame{ind}\", 'r').read()\n"
     ]
    }
   ],
   "source": [
    "base_path = r\"D:\\~~~homework\\Crypto experiment\\密码挑战赛赛题三\\附件3-1\"\n",
    "base_path = r\"D:\\~~~homework\\Crypto experiment\\密码挑战赛赛题三\\附件3-2\"\n",
    "def Frame_decode(ind):\n",
    "    txt = open(base_path + f\"\\Frame{ind}\", 'r').read()\n",
    "    n = int(txt[:256], 16)\n",
    "    e = int(txt[256:512], 16)\n",
    "    c = int(txt[512:], 16)\n",
    "    return n,e,c"
   ]
  },
  {
   "cell_type": "code",
   "execution_count": 7,
   "metadata": {
    "vscode": {
     "languageId": "python"
    }
   },
   "outputs": [
    {
     "ename": "TypeError",
     "evalue": "'function' object is not subscriptable",
     "output_type": "error",
     "traceback": [
      "\u001b[0;31m---------------------------------------------------------------------------\u001b[0m",
      "\u001b[0;31mTypeError\u001b[0m                                 Traceback (most recent call last)",
      "\u001b[0;32m<ipython-input-7-0dbceb5e8a2c>\u001b[0m in \u001b[0;36m<module>\u001b[0;34m\u001b[0m\n\u001b[1;32m      1\u001b[0m \u001b[0mn0\u001b[0m\u001b[0;34m,\u001b[0m\u001b[0me0\u001b[0m\u001b[0;34m,\u001b[0m\u001b[0mc0\u001b[0m \u001b[0;34m=\u001b[0m \u001b[0mFrame_decode\u001b[0m\u001b[0;34m(\u001b[0m\u001b[0mInteger\u001b[0m\u001b[0;34m(\u001b[0m\u001b[0;36m0\u001b[0m\u001b[0;34m)\u001b[0m\u001b[0;34m)\u001b[0m\u001b[0;34m\u001b[0m\u001b[0;34m\u001b[0m\u001b[0m\n\u001b[0;32m----> 2\u001b[0;31m \u001b[0;32massert\u001b[0m \u001b[0mn0\u001b[0m \u001b[0;34m==\u001b[0m \u001b[0mn\u001b[0m\u001b[0;34m[\u001b[0m\u001b[0mInteger\u001b[0m\u001b[0;34m(\u001b[0m\u001b[0;36m0\u001b[0m\u001b[0;34m)\u001b[0m\u001b[0;34m]\u001b[0m\u001b[0;34m\u001b[0m\u001b[0;34m\u001b[0m\u001b[0m\n\u001b[0m\u001b[1;32m      3\u001b[0m \u001b[0;32massert\u001b[0m \u001b[0me0\u001b[0m \u001b[0;34m==\u001b[0m \u001b[0me\u001b[0m\u001b[0;34m\u001b[0m\u001b[0;34m\u001b[0m\u001b[0m\n\u001b[1;32m      4\u001b[0m \u001b[0;32massert\u001b[0m \u001b[0mc0\u001b[0m \u001b[0;34m==\u001b[0m \u001b[0mc\u001b[0m\u001b[0;34m[\u001b[0m\u001b[0mInteger\u001b[0m\u001b[0;34m(\u001b[0m\u001b[0;36m0\u001b[0m\u001b[0;34m)\u001b[0m\u001b[0;34m]\u001b[0m\u001b[0;34m\u001b[0m\u001b[0;34m\u001b[0m\u001b[0m\n",
      "\u001b[0;31mTypeError\u001b[0m: 'function' object is not subscriptable"
     ]
    }
   ],
   "source": [
    "n0,e0,c0 = Frame_decode(0)\n",
    "assert n0 == n[0]\n",
    "assert e0 == e\n",
    "assert c0 == c[0]"
   ]
  },
  {
   "cell_type": "code",
   "execution_count": 15,
   "metadata": {
    "vscode": {
     "languageId": "python"
    }
   },
   "outputs": [],
   "source": [
    "list_n = []\n",
    "list_e = []\n",
    "list_d = [0 for _ in range(21)]\n",
    "list_p = [0 for _ in range(21)]\n",
    "list_q = [0 for _ in range(21)]\n",
    "list_m = [0 for _ in range(21)]\n",
    "list_c = []\n",
    "for i in range(21):\n",
    "    tmpn, tmpe, tmpc = Frame_decode(i)\n",
    "    list_n.append(tmpn)\n",
    "    list_e.append(tmpe)\n",
    "    list_c.append(tmpc)"
   ]
  },
  {
   "cell_type": "code",
   "execution_count": 16,
   "metadata": {
    "vscode": {
     "languageId": "python"
    }
   },
   "outputs": [
    {
     "data": {
      "text/plain": [
       "([False,\n",
       "  False,\n",
       "  False,\n",
       "  False,\n",
       "  False,\n",
       "  False,\n",
       "  False,\n",
       "  False,\n",
       "  False,\n",
       "  False,\n",
       "  False,\n",
       "  False,\n",
       "  False,\n",
       "  False,\n",
       "  False,\n",
       "  False,\n",
       "  False,\n",
       "  False,\n",
       "  False,\n",
       "  False,\n",
       "  False],\n",
       " [None,\n",
       "  None,\n",
       "  None,\n",
       "  None,\n",
       "  None,\n",
       "  None,\n",
       "  None,\n",
       "  None,\n",
       "  None,\n",
       "  None,\n",
       "  None,\n",
       "  None,\n",
       "  None,\n",
       "  None,\n",
       "  None,\n",
       "  None,\n",
       "  None,\n",
       "  None,\n",
       "  None,\n",
       "  None,\n",
       "  None])"
      ]
     },
     "execution_count": 16,
     "metadata": {},
     "output_type": "execute_result"
    }
   ],
   "source": [
    "list_ans = [None for _ in range(21)]\n",
    "flag_ans = [False for _ in range(21)]\n",
    "flag_ans,list_ans"
   ]
  },
  {
   "cell_type": "markdown",
   "metadata": {},
   "source": [
    "## Common list_n"
   ]
  },
  {
   "cell_type": "code",
   "execution_count": 10,
   "metadata": {
    "vscode": {
     "languageId": "python"
    }
   },
   "outputs": [
    {
     "data": {
      "text/plain": [
       "(20, 21)"
      ]
     },
     "execution_count": 10,
     "metadata": {},
     "output_type": "execute_result"
    }
   ],
   "source": [
    "len(set(list_n)),len(list_n)"
   ]
  },
  {
   "cell_type": "code",
   "execution_count": 17,
   "metadata": {
    "vscode": {
     "languageId": "python"
    }
   },
   "outputs": [
    {
     "name": "stdout",
     "output_type": "stream",
     "text": [
      "0 4 90058705186558569935261948496132914380077312570281980020033760044382510933070450931241348678652103772768114420567119848142360867111065753301402088676701668212035175754850951897103338079978959810673297215370534716084813732883918187890434411552463739669878295417744080700424913250020348487161014643951785502867\n",
      "e: False 46786465362686334917265996843779843233606992585424976481745055335468678697948774988450305612127967926533923268260412557000125153569622340353246096040604284883505587337829322949633637609180797447754513992039018904786537115087888005528547900640339270052628915440787357271345416818313808448127098885767015748889 152206992575706893484835984472544529509325440944131662631741403414037956695665533186650071476146389737020554215956181827422540843366433981607643940546405002217220286072880967331118344806315756304650248634546597784597963886656422706197757265316981889118026978865295597135470735576032282694348773714479076093197\n"
     ]
    },
    {
     "data": {
      "text/plain": [
       "[{'flag': '9876543210abcdef',\n",
       "  'index': '00000000',\n",
       "  'pad': '0000000000000000000000000000000000000000000000000000000000000000000000000000000000000000',\n",
       "  'ans': b'My secre',\n",
       "  'solution': 'common N'},\n",
       " None,\n",
       " None,\n",
       " None,\n",
       " {'flag': '9876543210abcdef',\n",
       "  'index': '00000000',\n",
       "  'pad': '0000000000000000000000000000000000000000000000000000000000000000000000000000000000000000',\n",
       "  'ans': b'My secre',\n",
       "  'solution': 'common N'},\n",
       " None,\n",
       " None,\n",
       " None,\n",
       " None,\n",
       " None,\n",
       " None,\n",
       " None,\n",
       " None,\n",
       " None,\n",
       " None,\n",
       " None,\n",
       " None,\n",
       " None,\n",
       " None,\n",
       " None,\n",
       " None]"
      ]
     },
     "execution_count": 17,
     "metadata": {},
     "output_type": "execute_result"
    }
   ],
   "source": [
    "for i in range(len(list_n)):\n",
    "    for j in range(i+1, len(list_n)):\n",
    "        if list_n[i] == list_n[j]:\n",
    "            print(i, j, list_n[i])\n",
    "ind1, ind2 = 0, 4\n",
    "print(\"e:\", list_e[ind1] == list_e[ind2], list_e[ind1], list_e[ind2])\n",
    "g, x, y = gcdext(list_e[ind1], list_e[ind2])\n",
    "list_m[ind1] = list_m[ind2]  = powmod(list_c[ind1],x,list_n[ind1])*powmod(list_c[ind2],y,list_n[ind1])%list_n[ind1]\n",
    "ans04 = plaintxt_decode(list_m[ind1], \"common N\")\n",
    "list_ans[ind2] = list_ans[ind1] = ans04\n",
    "flag_ans[ind2] = flag_ans[ind1] = True\n",
    "list_ans"
   ]
  },
  {
   "cell_type": "markdown",
   "metadata": {},
   "source": [
    "## gcd attack"
   ]
  },
  {
   "cell_type": "code",
   "execution_count": 18,
   "metadata": {
    "vscode": {
     "languageId": "python"
    }
   },
   "outputs": [],
   "source": [
    "def RSA_decrypt(ind, sol):\n",
    "    list_m[ind] = powmod(list_c[ind], list_d[ind], list_n[ind])\n",
    "    tmp_ans = plaintxt_decode(list_m[ind],  sol)\n",
    "    list_ans[ind] = tmp_ans"
   ]
  },
  {
   "cell_type": "code",
   "execution_count": 20,
   "metadata": {
    "vscode": {
     "languageId": "python"
    }
   },
   "outputs": [
    {
     "name": "stdout",
     "output_type": "stream",
     "text": [
      "1 18 7273268163465293471933643674908027120929096536045429682300347130226398442391418956862476173798834057392247872274441320512158525416407044516675402521694747\n"
     ]
    },
    {
     "data": {
      "text/plain": [
       "[{'flag': '9876543210abcdef',\n",
       "  'index': '00000000',\n",
       "  'pad': '0000000000000000000000000000000000000000000000000000000000000000000000000000000000000000',\n",
       "  'ans': b'My secre',\n",
       "  'solution': 'common N'},\n",
       " {'flag': '9876543210abcdef',\n",
       "  'index': '0000000b',\n",
       "  'pad': '0000000000000000000000000000000000000000000000000000000000000000000000000000000000000000',\n",
       "  'ans': b'. Imagin',\n",
       "  'solution': 'GCD Attack'},\n",
       " None,\n",
       " None,\n",
       " {'flag': '9876543210abcdef',\n",
       "  'index': '00000000',\n",
       "  'pad': '0000000000000000000000000000000000000000000000000000000000000000000000000000000000000000',\n",
       "  'ans': b'My secre',\n",
       "  'solution': 'common N'},\n",
       " None,\n",
       " None,\n",
       " None,\n",
       " None,\n",
       " None,\n",
       " None,\n",
       " None,\n",
       " None,\n",
       " None,\n",
       " None,\n",
       " None,\n",
       " None,\n",
       " None,\n",
       " {'flag': '9876543210abcdef',\n",
       "  'index': '0000000a',\n",
       "  'pad': '0000000000000000000000000000000000000000000000000000000000000000000000000000000000000000',\n",
       "  'ans': b'm A to B',\n",
       "  'solution': 'GCD Attack'},\n",
       " None,\n",
       " None]"
      ]
     },
     "execution_count": 20,
     "metadata": {},
     "output_type": "execute_result"
    }
   ],
   "source": [
    "for i in range(len(list_n)):\n",
    "    if flag_ans[i] == True:\n",
    "        continue\n",
    "    for j in range(i+1, len(list_n)):\n",
    "        if gcd(list_n[i], list_n[j]) != 1:\n",
    "            print(i,j,gcd(list_n[i],list_n[j]))\n",
    "            list_p[j] = list_p[i] = gcd(list_n[i],list_n[j])\n",
    "            list_q[i] = list_n[i]//list_p[i]\n",
    "            list_q[j] = list_n[j]//list_p[j]\n",
    "ind1 = 1\n",
    "ind2 = 18\n",
    "list_e[ind1],list_e[ind2]\n",
    "list_d[ind1] = invert(list_e[ind1], (list_p[ind1]-1)*(list_q[ind1]-1))\n",
    "list_d[ind2] = invert(list_e[ind2], (list_p[ind2]-1)*(list_q[ind2]-1))\n",
    "RSA_decrypt(ind1, \"GCD Attack\")\n",
    "RSA_decrypt(ind2, \"GCD Attack\")\n",
    "list_ans"
   ]
  },
  {
   "cell_type": "markdown",
   "metadata": {},
   "source": [
    "## Fermat factor"
   ]
  },
  {
   "cell_type": "code",
   "execution_count": 83,
   "metadata": {
    "vscode": {
     "languageId": "python"
    }
   },
   "outputs": [
    {
     "name": "stdout",
     "output_type": "stream",
     "text": [
      "begin to attack 2\n",
      "begin to attack 5\n",
      "begin to attack 6\n",
      "begin to attack 9\n",
      "begin to attack 10\n",
      "10\n",
      "begin to attack 13\n",
      "begin to attack 14\n",
      "begin to attack 17\n",
      "begin to attack 19\n"
     ]
    }
   ],
   "source": [
    "import time\n",
    "for i in range(len(list_n)):\n",
    "    if list_ans[i] != None:\n",
    "        continue\n",
    "    start = time.time()\n",
    "    print(f\"begin to attack {i}\")\n",
    "    x = isqrt(list_n[i]) + 1\n",
    "    cnt = 0\n",
    "    while iroot(x**2-list_n[i], 2)[1] == False:\n",
    "        x += 1\n",
    "        if time.time()-start>=120:\n",
    "            break\n",
    "    y = iroot(x**2-list_n[i], 2)[0]\n",
    "    p = x+y\n",
    "    q = list_n[i]//p\n",
    "    if p*q != list_n[i]:\n",
    "        continue\n",
    "    print(i)\n",
    "    list_p[i]=p\n",
    "    list_q[i]=q\n",
    "    list_d[i] = invert(list_e[i], (list_p[i]-1)*(list_q[i]-1))\n",
    "    RSA_decrypt(i, \"Fermat factor\")"
   ]
  },
  {
   "cell_type": "code",
   "execution_count": 84,
   "metadata": {
    "vscode": {
     "languageId": "python"
    }
   },
   "outputs": [],
   "source": [
    "out_ans()"
   ]
  },
  {
   "cell_type": "code",
   "execution_count": 91,
   "metadata": {
    "vscode": {
     "languageId": "python"
    }
   },
   "outputs": [
    {
     "name": "stdout",
     "output_type": "stream",
     "text": [
      "begin to attack 2\n",
      "begin to attack 5\n",
      "begin to attack 6\n",
      "begin to attack 9\n",
      "begin to attack 13\n",
      "begin to attack 14\n",
      "begin to attack 17\n",
      "begin to attack 19\n"
     ]
    }
   ],
   "source": [
    "import time\n",
    "for i in range(len(list_n)):\n",
    "    if list_ans[i] != None:\n",
    "        continue\n",
    "    start = time.time()\n",
    "    print(f\"begin to attack {i}\")\n",
    "    x = isqrt(list_n[i]) + 1\n",
    "    cnt = 0\n",
    "    while iroot(x**2-list_n[i], 2)[1] == False:\n",
    "        x += 1\n",
    "        if time.time()-start >= 300:\n",
    "            break\n",
    "    y = iroot(x**2-list_n[i], 2)[0]\n",
    "    p = x+y\n",
    "    q = list_n[i]//p\n",
    "    if p*q != list_n[i]:\n",
    "        continue\n",
    "    print(i)\n",
    "    list_p[i] = p\n",
    "    list_q[i] = q\n",
    "    list_d[i] = invert(list_e[i], (list_p[i]-1)*(list_q[i]-1))\n",
    "    RSA_decrypt(i, \"Fermat factor\")"
   ]
  },
  {
   "cell_type": "markdown",
   "metadata": {},
   "source": [
    "## Coppersmith"
   ]
  },
  {
   "cell_type": "code",
   "execution_count": 52,
   "metadata": {
    "vscode": {
     "languageId": "python"
    }
   },
   "outputs": [
    {
     "data": {
      "text/plain": [
       "(b'\\x98vT2\\x10\\xab\\xcd\\xef',\n",
       " b'\\x00\\x00\\x00\\x00\\x00\\x00\\x00\\x00\\x00\\x00\\x00\\x00\\x00\\x00\\x00\\x00\\x00\\x00\\x00\\x00\\x00\\x00\\x00\\x00\\x00\\x00\\x00\\x00\\x00\\x00\\x00\\x00\\x00\\x00\\x00\\x00\\x00\\x00\\x00\\x00\\x00\\x00\\x00\\x00')"
      ]
     },
     "execution_count": 52,
     "metadata": {},
     "output_type": "execute_result"
    }
   ],
   "source": [
    "default_flag = bytes.fromhex(\"9876543210abcdef\")\n",
    "default_pad = bytes.fromhex(\"0000000000000000000000000000000000000000000000000000000000000000000000000000000000000000\")\n",
    "default_flag, default_pad"
   ]
  },
  {
   "cell_type": "code",
   "execution_count": 68,
   "metadata": {
    "vscode": {
     "languageId": "python"
    }
   },
   "outputs": [],
   "source": [
    "from sage.all import *\n",
    "def get_full_m(high_m,n,c,e):\n",
    "    R.<low_m> = PolynomialRing(Zmod(n), implementation = \"NTL\")\n",
    "    f_m = high_m + low_m\n",
    "    root = ((f_m^e)-c).small_roots()\n",
    "    # print(root)\n",
    "    if len(root) == 0:\n",
    "        return None\n",
    "    root = root[0]\n",
    "    return int(f_m(root))"
   ]
  },
  {
   "cell_type": "code",
   "execution_count": 69,
   "metadata": {
    "vscode": {
     "languageId": "python"
    }
   },
   "outputs": [
    {
     "data": {
      "text/plain": [
       "[3, 7, 8, 11, 12, 15, 16, 20]"
      ]
     },
     "execution_count": 69,
     "metadata": {},
     "output_type": "execute_result"
    }
   ],
   "source": [
    "attack_index = [i for i in range(len(list_e)) if list_e[i]==3 or list_e[i]==5]\n",
    "attack_index"
   ]
  },
  {
   "cell_type": "code",
   "execution_count": 75,
   "metadata": {
    "vscode": {
     "languageId": "python"
    }
   },
   "outputs": [
    {
     "name": "stderr",
     "output_type": "stream",
     "text": [
      "  5%|▍         | 1/21 [00:00<00:12,  1.64it/s]"
     ]
    },
    {
     "name": "stdout",
     "output_type": "stream",
     "text": [
      "1 3 7985094500508197619216095179109374591466840832845633905102428354228364957393952749844260287135965730215484818378063570600824813771406220340542500306493542\n",
      "1 8 7985094500508197619216095179109374591466840832845633905102428354228364957393952749844260287135965730215484818378063570600824813771406220340542500306493542\n",
      "1 12 7985094500508197619216095179109374591466840832845633905102428354228364957393952749844260287135965730215484818378063570600824813771406220340542500306493542\n",
      "1 16 7985094500508197619216095179109374591466840832845633905102428354228364957393952749844260287135965730215484818378063570600824813771406220340542500306493542\n"
     ]
    },
    {
     "name": "stderr",
     "output_type": "stream",
     "text": [
      " 14%|█▍        | 3/21 [00:01<00:07,  2.31it/s]"
     ]
    },
    {
     "name": "stdout",
     "output_type": "stream",
     "text": [
      "1 20 7985094500508197619216095179109374591466840832845633905102428354228364957393952749844260287135965730215484818378063570600824813771406220340542500306493542\n",
      "2 7 7985094500508197619216095179278604919477144474177324223958817740424436556232808741981130378726213612771980522909312008473391926692389569271534373566444385\n"
     ]
    },
    {
     "name": "stderr",
     "output_type": "stream",
     "text": [
      "100%|██████████| 21/21 [00:01<00:00, 12.61it/s]"
     ]
    },
    {
     "name": "stdout",
     "output_type": "stream",
     "text": [
      "3 11 7985094500508197619216095179447835247487448115509014542815207126620508155071664734118000470316461495328476227440560446345959039613372921278195549267256864\n",
      "4 15 7985094500508197619216095179617065575497751756840704861671596512816579753910520726254870561906709377884971931971808884218526152534356267522207486445887557\n"
     ]
    },
    {
     "name": "stderr",
     "output_type": "stream",
     "text": [
      "\n"
     ]
    }
   ],
   "source": [
    "from tqdm import trange\n",
    "\n",
    "for index in trange(0, len(list_ans)):\n",
    "    bytes_index = bytes([index]).rjust(4, b\"\\x00\")\n",
    "    for i in attack_index:\n",
    "        if list_ans[i] != None:\n",
    "            continue\n",
    "        high_m = bytes_to_long(default_flag+bytes_index+default_pad)<<64\n",
    "        tmp_m = get_full_m(high_m, list_n[i], list_c[i], list_e[i])\n",
    "        if tmp_m != None:\n",
    "            print(index,i, tmp_m)\n",
    "            list_m[i] = tmp_m\n",
    "            list_ans[i] = plaintxt_decode(list_m[i],  \"Coppersmith\")"
   ]
  },
  {
   "cell_type": "code",
   "execution_count": 80,
   "metadata": {
    "vscode": {
     "languageId": "python"
    }
   },
   "outputs": [],
   "source": [
    "def out_ans():\n",
    "    with open(r\"D:\\~~~homework\\Crypto experiment\\密码挑战赛赛题三\\ans.txt\",\"w\") as f:\n",
    "        for i in range(len(list_ans)):\n",
    "            f.write('-'*10+str(i)+'-'*10+'\\n')\n",
    "            f.write(str(list_ans[i])+'\\n')\n",
    "out_ans()"
   ]
  },
  {
   "cell_type": "code",
   "execution_count": 100,
   "metadata": {
    "vscode": {
     "languageId": "python"
    }
   },
   "outputs": [
    {
     "data": {
      "text/plain": [
       "[2, 5, 6, 9, 13, 14, 17, 19]"
      ]
     },
     "execution_count": 100,
     "metadata": {},
     "output_type": "execute_result"
    }
   ],
   "source": [
    "attack_list =  [i for i in range(len(list_e)) if list_ans[i]==None]\n",
    "attack_list"
   ]
  },
  {
   "cell_type": "markdown",
   "metadata": {},
   "source": [
    "## pollard p-1"
   ]
  },
  {
   "cell_type": "code",
   "execution_count": 107,
   "metadata": {
    "vscode": {
     "languageId": "python"
    }
   },
   "outputs": [
    {
     "name": "stdout",
     "output_type": "stream",
     "text": [
      "begin to attack: 2\n",
      "2 1719620105458406433483340568317543019584575635895742560438771105058321655238562613083979651479555788009994557822024565226932906295208262756822275663694111\n",
      "begin to attack: 5\n",
      "begin to attack: 6\n",
      "6 920724637201\n",
      "begin to attack: 9\n",
      "begin to attack: 13\n",
      "begin to attack: 14\n",
      "begin to attack: 17\n",
      "begin to attack: 19\n",
      "19 1085663496559\n"
     ]
    }
   ],
   "source": [
    "for i in attack_list:\n",
    "    a = 2\n",
    "    b = 2\n",
    "    n = list_n[i]\n",
    "    start = time.time()\n",
    "    print(f\"begin to attack: {i}\")\n",
    "    while True:\n",
    "        a = powmod(a,b,n)\n",
    "        temp = gcd(a-1,n)\n",
    "        if temp != 1 and temp != n:\n",
    "            p = temp\n",
    "            list_p[i] = p\n",
    "            list_q[i] = list_n[i]//p\n",
    "            list_d[i] = invert(list_e[i], (list_p[i]-1)*(list_q[i]-1))\n",
    "            RSA_decrypt(i, \"Pollard p-1\")\n",
    "            print(i,p)\n",
    "            break\n",
    "        b += 1\n",
    "        if time.time()-start>=60:\n",
    "            break"
   ]
  },
  {
   "cell_type": "code",
   "execution_count": 108,
   "metadata": {
    "vscode": {
     "languageId": "python"
    }
   },
   "outputs": [],
   "source": [
    "out_ans()"
   ]
  },
  {
   "cell_type": "code",
   "execution_count": 119,
   "metadata": {
    "vscode": {
     "languageId": "python"
    }
   },
   "outputs": [
    {
     "data": {
      "text/plain": [
       "[5, 9, 13, 14, 17]"
      ]
     },
     "execution_count": 119,
     "metadata": {},
     "output_type": "execute_result"
    }
   ],
   "source": [
    "attack_list =  [i for i in range(len(list_e)) if list_ans[i]==None]\n",
    "attack_list"
   ]
  },
  {
   "cell_type": "code",
   "execution_count": 121,
   "metadata": {
    "vscode": {
     "languageId": "python"
    }
   },
   "outputs": [
    {
     "name": "stdout",
     "output_type": "stream",
     "text": [
      "begin to attack: 5\n",
      "begin to attack: 9\n",
      "begin to attack: 13\n",
      "begin to attack: 14\n",
      "begin to attack: 17\n"
     ]
    }
   ],
   "source": [
    "for i in attack_list:\n",
    "    a = 2\n",
    "    b = 2\n",
    "    n = list_n[i]\n",
    "    start = time.time()\n",
    "    print(f\"begin to attack: {i}\")\n",
    "    while True:\n",
    "        a = powmod(a,b,n)\n",
    "        temp = gcd(a-1,n)\n",
    "        if temp != 1 and temp != n:\n",
    "            p = temp\n",
    "            list_p[i] = p\n",
    "            list_q[i] = list_n[i]//p\n",
    "            list_d[i] = invert(list_e[i], (list_p[i]-1)*(list_q[i]-1))\n",
    "            RSA_decrypt(i, \"Pollard p-1\")\n",
    "            print(i,p)\n",
    "            break\n",
    "        b += 1\n",
    "        if time.time()-start>= 600:\n",
    "            break"
   ]
  },
  {
   "cell_type": "markdown",
   "metadata": {},
   "source": [
    "## ❌ William p+1 "
   ]
  },
  {
   "cell_type": "code",
   "execution_count": 114,
   "metadata": {
    "vscode": {
     "languageId": "python"
    }
   },
   "outputs": [
    {
     "data": {
      "text/plain": [
       "[65537, 65537, 65537, 65537, 65537]"
      ]
     },
     "execution_count": 114,
     "metadata": {},
     "output_type": "execute_result"
    }
   ],
   "source": [
    "attack_list =  [i for i in range(len(list_e)) if list_ans[i]==None]\n",
    "[list_e[i] for i in attack_list]"
   ]
  },
  {
   "cell_type": "code",
   "execution_count": 113,
   "metadata": {
    "vscode": {
     "languageId": "python"
    }
   },
   "outputs": [
    {
     "name": "stdout",
     "output_type": "stream",
     "text": [
      "begin to attack 5\n",
      "None\n",
      "begin to attack 9\n",
      "None\n",
      "begin to attack 13\n",
      "None\n",
      "begin to attack 14\n",
      "None\n",
      "begin to attack 17\n",
      "None\n"
     ]
    }
   ],
   "source": [
    "from primefac import *\n",
    "from itertools import *\n",
    "import time\n",
    "def william_p(n):\n",
    "    def mlucas(v, a, n):\n",
    "        \"\"\" Helper function for williams_pp1().  Multiplies along a Lucas sequence modulo n. \"\"\"\n",
    "        v1, v2 = v, (v**2 - 2) % n\n",
    "        for bit in bin(a)[3:]: v1, v2 = ((v1**2 - 2) % n, (v1*v2 - v) % n) if bit == \"0\" else ((v1*v2 - v) % n, (v2**2 - 2) % n)\n",
    "        return v1\n",
    "    \n",
    "    start = time.time()\n",
    "    for v in count(1):\n",
    "        for p in primegen():\n",
    "            e = ilog(isqrt(n), p)\n",
    "            if e == 0: \n",
    "                break\n",
    "            for _ in range(e): \n",
    "                v = mlucas(v, p, n)\n",
    "            g = gcd(v-2, n)\n",
    "            if 1 < g < n: \n",
    "                return g # g|n\n",
    "            if g == n: \n",
    "                break\n",
    "            if time.time()-start>=60:\n",
    "                return None\n",
    "for i in attack_list:\n",
    "    print(f\"begin to attack {i}\")\n",
    "    p = william_p(list_n[i])\n",
    "    print(p)"
   ]
  },
  {
   "cell_type": "markdown",
   "metadata": {},
   "source": [
    "## ❌ base_conversion"
   ]
  },
  {
   "cell_type": "code",
   "execution_count": 117,
   "metadata": {
    "vscode": {
     "languageId": "python"
    }
   },
   "outputs": [],
   "source": [
    "def factorize(N, coefficient_threshold=50):\n",
    "    \"\"\"\n",
    "    Recovers the prime factors from a modulus by converting it to different bases.\n",
    "    :param N: the modulus\n",
    "    :param coefficient_threshold: the threshold of coefficients below which we will try to factor a base k polynomial\n",
    "    :return: a tuple containing the prime factors\n",
    "    \"\"\"\n",
    "    start = time.time()\n",
    "    x = var(\"x\")\n",
    "    base = 2\n",
    "    while True:\n",
    "\n",
    "        polynomial = 0\n",
    "        for i, e in enumerate(ZZ(N).digits(base)):\n",
    "            polynomial += e * x ** i\n",
    "        if len(polynomial.coefficients()) < coefficient_threshold:\n",
    "            return tuple(map(lambda f: int(f[0].subs(x=base)), polynomial.factor_list()))\n",
    "        base += 1\n",
    "        if time.time()-start>=300:\n",
    "            return None"
   ]
  },
  {
   "cell_type": "code",
   "execution_count": 118,
   "metadata": {
    "vscode": {
     "languageId": "python"
    }
   },
   "outputs": [
    {
     "name": "stdout",
     "output_type": "stream",
     "text": [
      "begin to attack 5\n",
      "None\n",
      "begin to attack 9\n",
      "None\n",
      "begin to attack 13\n",
      "None\n",
      "begin to attack 14\n",
      "None\n",
      "begin to attack 17\n",
      "None\n"
     ]
    }
   ],
   "source": [
    "for i in attack_list:\n",
    "    print(f\"begin to attack {i}\")\n",
    "    p = factorize(list_n[i])\n",
    "    print(p)"
   ]
  },
  {
   "cell_type": "code",
   "execution_count": null,
   "metadata": {
    "vscode": {
     "languageId": "python"
    }
   },
   "outputs": [],
   "source": []
  }
 ],
 "metadata": {
  "kernelspec": {
   "display_name": "SageMath 9.3",
   "language": "sage",
   "name": "sagemath"
  },
  "language_info": {
   "codemirror_mode": {
    "name": "ipython",
    "version": 3
   },
   "file_extension": ".py",
   "mimetype": "text/x-python",
   "name": "sage",
   "nbconvert_exporter": "python",
   "pygments_lexer": "ipython3",
   "version": "3.7.10"
  }
 },
 "nbformat": 4,
 "nbformat_minor": 2
}
